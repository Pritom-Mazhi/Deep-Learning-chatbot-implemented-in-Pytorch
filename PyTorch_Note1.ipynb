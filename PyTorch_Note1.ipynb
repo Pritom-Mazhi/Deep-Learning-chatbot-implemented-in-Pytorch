{
 "cells": [
  {
   "cell_type": "code",
   "execution_count": 1,
   "metadata": {},
   "outputs": [],
   "source": [
    "import torch"
   ]
  },
  {
   "cell_type": "code",
   "execution_count": 2,
   "metadata": {},
   "outputs": [],
   "source": [
    "import torchvision"
   ]
  },
  {
   "cell_type": "code",
   "execution_count": 3,
   "metadata": {},
   "outputs": [
    {
     "name": "stdout",
     "output_type": "stream",
     "text": [
      "False\n"
     ]
    }
   ],
   "source": [
    "print(torch.cuda.is_available())"
   ]
  },
  {
   "cell_type": "markdown",
   "metadata": {},
   "source": [
    "## Cells above is just a checking if PyTorch and CUDA are installed\n",
    "[more in original utube video](https://www.youtube.com/watch?v=CNuI8OWsppg)"
   ]
  },
  {
   "cell_type": "code",
   "execution_count": 4,
   "metadata": {},
   "outputs": [
    {
     "name": "stdout",
     "output_type": "stream",
     "text": [
      "tensor([2, 2, 1])\n"
     ]
    }
   ],
   "source": [
    "#1-D tensor\n",
    "a = torch.tensor([2,2,1])\n",
    "print(a)"
   ]
  },
  {
   "cell_type": "code",
   "execution_count": 5,
   "metadata": {},
   "outputs": [
    {
     "name": "stdout",
     "output_type": "stream",
     "text": [
      "tensor([[1, 2, 3],\n",
      "        [2, 2, 1],\n",
      "        [4, 7, 8],\n",
      "        [0, 0, 0]])\n"
     ]
    }
   ],
   "source": [
    "#2-D tensor\n",
    "b = torch.tensor([[1,2,3], [2,2,1], [4,7,8], [0,0,0]])\n",
    "print(b)"
   ]
  },
  {
   "cell_type": "code",
   "execution_count": 6,
   "metadata": {},
   "outputs": [
    {
     "name": "stdout",
     "output_type": "stream",
     "text": [
      "torch.Size([3])\n",
      "torch.Size([4, 3])\n",
      "torch.Size([3])\n",
      "torch.Size([4, 3])\n"
     ]
    }
   ],
   "source": [
    "#type of tensor\n",
    "print(a.shape) #or a.shape\n",
    "print(b.shape)\n",
    "print(a.size())\n",
    "print(b.size()) #shape and size() does the same thing. just shape is an attribute and size() is a method"
   ]
  },
  {
   "cell_type": "code",
   "execution_count": 7,
   "metadata": {},
   "outputs": [
    {
     "name": "stdout",
     "output_type": "stream",
     "text": [
      "4\n"
     ]
    }
   ],
   "source": [
    "#get the height/number of rows in a tensor - \n",
    "print(b.shape[0]) #note: b.size([0]) will lead to an error; [0] indexed is because the rows are in [0] index\n",
    "#or we can do b.shape[0]"
   ]
  },
  {
   "cell_type": "code",
   "execution_count": 8,
   "metadata": {},
   "outputs": [],
   "source": [
    "#float tensor\n",
    "c = torch.FloatTensor([[1,2,3], [2,2,1], [4,7,8], [0,0,0]])\n",
    "#or we can do\n",
    "#c = torch.tensor([[1,2,3], [2,2,1], [4,7,8], [0,0,0]], dtype=torch.float)"
   ]
  },
  {
   "cell_type": "code",
   "execution_count": 9,
   "metadata": {},
   "outputs": [],
   "source": [
    "#there are different kinds of tensors,check website for details\n",
    "#double tensor\n",
    "d = torch.DoubleTensor([[1,2,3], [2,2,1], [4,7,8], [0,0,0]])\n",
    "#or we can do\n",
    "#d = torch.tensor([[1,2,3], [2,2,1], [4,7,8], [0,0,0]], dtype=torch.double)"
   ]
  },
  {
   "cell_type": "code",
   "execution_count": 10,
   "metadata": {},
   "outputs": [
    {
     "name": "stdout",
     "output_type": "stream",
     "text": [
      "tensor([[1., 2., 3.],\n",
      "        [2., 2., 1.],\n",
      "        [4., 7., 8.],\n",
      "        [0., 0., 0.]])\n",
      "torch.float32\n"
     ]
    }
   ],
   "source": [
    "print(c)\n",
    "print(c.dtype)"
   ]
  },
  {
   "cell_type": "code",
   "execution_count": 11,
   "metadata": {},
   "outputs": [
    {
     "name": "stdout",
     "output_type": "stream",
     "text": [
      "tensor([[1., 2., 3.],\n",
      "        [2., 2., 1.],\n",
      "        [4., 7., 8.],\n",
      "        [0., 0., 0.]], dtype=torch.float64)\n",
      "torch.float64\n"
     ]
    }
   ],
   "source": [
    "print(d)\n",
    "print(d.dtype)\n",
    "#float64 and double are the same, float32 and float are the same "
   ]
  },
  {
   "cell_type": "code",
   "execution_count": 12,
   "metadata": {},
   "outputs": [
    {
     "name": "stdout",
     "output_type": "stream",
     "text": [
      "tensor(2.5000)\n"
     ]
    }
   ],
   "source": [
    "print(c.mean())"
   ]
  },
  {
   "cell_type": "code",
   "execution_count": 13,
   "metadata": {},
   "outputs": [
    {
     "name": "stdout",
     "output_type": "stream",
     "text": [
      "tensor(2.5000, dtype=torch.float64)\n"
     ]
    }
   ],
   "source": [
    "print(d.mean())"
   ]
  },
  {
   "cell_type": "code",
   "execution_count": 14,
   "metadata": {},
   "outputs": [
    {
     "name": "stdout",
     "output_type": "stream",
     "text": [
      "tensor(2.6458)\n",
      "tensor(2.6458, dtype=torch.float64)\n"
     ]
    }
   ],
   "source": [
    "#standard deviation\n",
    "print(c.std())\n",
    "print(d.std())"
   ]
  },
  {
   "cell_type": "markdown",
   "metadata": {},
   "source": [
    "## Extremely Important - tensor reshaping/resizing etc.\n",
    "### we'll need it when implementing our own neural networks\n",
    "#### the method to reshape a tensor is called view()"
   ]
  },
  {
   "cell_type": "code",
   "execution_count": 15,
   "metadata": {},
   "outputs": [
    {
     "name": "stdout",
     "output_type": "stream",
     "text": [
      "tensor([[1],\n",
      "        [2],\n",
      "        [3],\n",
      "        [2],\n",
      "        [2],\n",
      "        [1],\n",
      "        [4],\n",
      "        [7],\n",
      "        [8],\n",
      "        [0],\n",
      "        [0],\n",
      "        [0]])\n",
      "tensor([1, 2, 3, 2, 2, 1, 4, 7, 8, 0, 0, 0])\n",
      "tensor([[1, 2, 3, 2],\n",
      "        [2, 1, 4, 7],\n",
      "        [8, 0, 0, 0]])\n",
      "tensor([[1, 2, 3, 2],\n",
      "        [2, 1, 4, 7],\n",
      "        [8, 0, 0, 0]])\n",
      "tensor([[1, 2, 3, 2, 2, 1, 4, 7, 8, 0, 0, 0]])\n",
      "torch.Size([1, 12])\n",
      "\n",
      "\n",
      "\n",
      "\n",
      "tensor([[[-0.0080, -0.8702, -0.2734, -0.3860],\n",
      "         [ 0.7303,  2.8360, -1.1450,  0.0061],\n",
      "         [ 0.9107, -0.4292,  1.4238,  1.0228]],\n",
      "\n",
      "        [[ 2.1354, -0.2115, -1.3541, -1.0112],\n",
      "         [ 0.5735,  1.6221,  0.3752, -0.1869],\n",
      "         [ 0.4616, -0.5920, -0.2509,  1.3222]]])\n",
      "tensor([[-0.0080, -0.8702, -0.2734, -0.3860,  0.7303,  2.8360, -1.1450,  0.0061,\n",
      "          0.9107, -0.4292,  1.4238,  1.0228],\n",
      "        [ 2.1354, -0.2115, -1.3541, -1.0112,  0.5735,  1.6221,  0.3752, -0.1869,\n",
      "          0.4616, -0.5920, -0.2509,  1.3222]])\n",
      "tensor([[-0.0080, -0.8702, -0.2734, -0.3860,  0.7303,  2.8360, -1.1450,  0.0061,\n",
      "          0.9107, -0.4292,  1.4238,  1.0228],\n",
      "        [ 2.1354, -0.2115, -1.3541, -1.0112,  0.5735,  1.6221,  0.3752, -0.1869,\n",
      "          0.4616, -0.5920, -0.2509,  1.3222]])\n"
     ]
    }
   ],
   "source": [
    "#reshape b\n",
    "#Note: In python, if one of the dimension is -1, it's size can be inferred\n",
    "#infer means python can find what the other dimension needed to be\n",
    "print(b.view(-1,1)) \n",
    "#b is originally [4,3] or 12*1. As one dim is -1,python infers/recalls as it was 12*1 and reshape it as such\n",
    "#as view(-1,1) is specified, it will output in a 2D array(one column, one row)\n",
    "\n",
    "print(b.view(12))\n",
    "#this line is basically the same thing, just it will reshape it as a 1D, array.\n",
    "#view(-1,1) is 12*1 and view(12) is just 12\n",
    "\n",
    "print(b.view(-1,4))\n",
    "#I'm telling python that i need 4 columns and you can infer -1\n",
    "#this should output as 3*4; because i already specified the 4, python inferred the 3\n",
    "\n",
    "print(b.view(3,4))\n",
    "#same as previous(-1,4), just this time i didn't use the -1 handy trick, i inferred the 3 myself\n",
    "\n",
    "#Assign to a new shape\n",
    "b = b.view(1,-1) #we're telling we need 1 row, and infer the columns(12 columns)\n",
    "print(b) #should output in 1*12\n",
    "print(b.shape) #shows us that it is 1*12\n",
    "print('\\n')\n",
    "\n",
    "#create a tensor with 2 channels, 3 rows, 4 columns (channels, rows, columns)\n",
    "#(channels, rows, columns) is the format for PyTorch framework, other frameworks differ\n",
    "three_dim = torch.randn(2,3,4) #two channels, 3*4 each\n",
    "print('\\n')\n",
    "print(three_dim)\n",
    "print(three_dim.view(2,12)) #reshape three_dim into a 2row-12col tensor, 2*12 tensor\n",
    "print(three_dim.view(2,-1)) #it's the same, u know,right? :) "
   ]
  },
  {
   "cell_type": "code",
   "execution_count": 16,
   "metadata": {},
   "outputs": [
    {
     "name": "stdout",
     "output_type": "stream",
     "text": [
      "tensor([[0.3183, 0.6342, 0.9693, 0.5506],\n",
      "        [0.1913, 0.2485, 0.6919, 0.7016],\n",
      "        [0.0598, 0.9248, 0.0024, 0.5493],\n",
      "        [0.1592, 0.6709, 0.6996, 0.7687]])\n"
     ]
    }
   ],
   "source": [
    "#Create a matrix/tensor with random numbers between 0 and 1\n",
    "r = torch.rand(4,4) #creating 4*4 tensor\n",
    "print(r)"
   ]
  },
  {
   "cell_type": "code",
   "execution_count": 17,
   "metadata": {},
   "outputs": [
    {
     "name": "stdout",
     "output_type": "stream",
     "text": [
      "tensor([[ 0.1010,  0.6950,  1.7865, -1.0973],\n",
      "        [-0.6230,  0.8556, -1.0587, -0.7017],\n",
      "        [ 0.4545,  1.3734,  0.5592,  0.5140],\n",
      "        [-0.3436, -0.9523,  1.1542, -0.3308]])\n",
      "torch.float32\n"
     ]
    }
   ],
   "source": [
    "#create a matrix with random numbers taken from normal distribution with mean 0 and variance 1\n",
    "r2 = torch.randn(4,4) #n for normal distribution and (4,4) creates 4*4 matrix\n",
    "print(r2)\n",
    "print(r2.dtype)"
   ]
  },
  {
   "cell_type": "code",
   "execution_count": 18,
   "metadata": {},
   "outputs": [
    {
     "name": "stdout",
     "output_type": "stream",
     "text": [
      "tensor([7, 9, 6, 9, 8])\n",
      "torch.int64\n"
     ]
    }
   ],
   "source": [
    "#create an array of 5 random integers from values between 6 and 9 (exclusive of 10)\n",
    "in_array = torch.randint(6,10,(5,)) #1D and not 5 rows, it is 5 columns and a single row\n",
    "print(in_array)\n",
    "print(in_array.dtype)"
   ]
  },
  {
   "cell_type": "code",
   "execution_count": 19,
   "metadata": {},
   "outputs": [
    {
     "name": "stdout",
     "output_type": "stream",
     "text": [
      "tensor([[9, 7, 8],\n",
      "        [7, 9, 8],\n",
      "        [8, 9, 7]])\n",
      "torch.int64\n"
     ]
    }
   ],
   "source": [
    "#create a 2D array/matrix of size 3*3 from 5 random integers from values between 6 and 9 (exclusive of 10)\n",
    "in_array2 = torch.randint(6,10,(3,3)) #it is 2D, 3 rows and 3 columns\n",
    "print(in_array2)\n",
    "print(in_array2.dtype)"
   ]
  },
  {
   "cell_type": "code",
   "execution_count": 20,
   "metadata": {},
   "outputs": [
    {
     "name": "stdout",
     "output_type": "stream",
     "text": [
      "5\n",
      "9\n"
     ]
    }
   ],
   "source": [
    "#get the number of elements in an array\n",
    "print(torch.numel(in_array))\n",
    "print(torch.numel(in_array2))"
   ]
  },
  {
   "cell_type": "code",
   "execution_count": 21,
   "metadata": {},
   "outputs": [
    {
     "name": "stdout",
     "output_type": "stream",
     "text": [
      "tensor([[0, 0, 0],\n",
      "        [0, 0, 0],\n",
      "        [0, 0, 0]])\n",
      "tensor([[1., 1., 1.],\n",
      "        [1., 1., 1.],\n",
      "        [1., 1., 1.]])\n",
      "torch.float32\n"
     ]
    }
   ],
   "source": [
    "#construct a 3x3 matrix of zeros and of dtype long\n",
    "z = torch.zeros(3, 3, dtype=torch.long)\n",
    "print(z)\n",
    "\n",
    "#construct a 3x3 matrix of ones\n",
    "o = torch.ones(3,3)\n",
    "print(o)\n",
    "print(o.dtype)"
   ]
  },
  {
   "cell_type": "code",
   "execution_count": 22,
   "metadata": {},
   "outputs": [
    {
     "name": "stdout",
     "output_type": "stream",
     "text": [
      "tensor([[-0.4005,  0.4035, -1.7697, -0.6331],\n",
      "        [-0.3055, -0.2288, -1.5383,  0.8958],\n",
      "        [ 1.1950, -0.3425,  0.0287,  1.3779],\n",
      "        [-0.7445,  0.4648, -0.7546, -0.9220]], dtype=torch.float64)\n"
     ]
    }
   ],
   "source": [
    "r2_like = torch.randn_like(r2, dtype=torch.double) \n",
    "#randn_like is taking random numbers & exact size of r2 to create a new matrix and the dtype of new matrix is double\n",
    "#random numbers from normal distribution (n stands for normal distribution, right?)\n",
    "print(r2_like)"
   ]
  },
  {
   "cell_type": "code",
   "execution_count": 23,
   "metadata": {},
   "outputs": [
    {
     "name": "stdout",
     "output_type": "stream",
     "text": [
      "tensor([[ 4.1929e-01,  1.3292e+00,  2.7558e+00, -5.4666e-01],\n",
      "        [-4.3169e-01,  1.1042e+00, -3.6679e-01, -1.1367e-04],\n",
      "        [ 5.1434e-01,  2.2982e+00,  5.6157e-01,  1.0633e+00],\n",
      "        [-1.8431e-01, -2.8136e-01,  1.8538e+00,  4.3785e-01]])\n"
     ]
    }
   ],
   "source": [
    "#add two tensors, make sure they are of same size and same datatypes\n",
    "add_result = torch.add(r, r2)\n",
    "print(add_result)"
   ]
  },
  {
   "cell_type": "code",
   "execution_count": 24,
   "metadata": {},
   "outputs": [
    {
     "name": "stdout",
     "output_type": "stream",
     "text": [
      "tensor([[ 4.1929e-01,  1.3292e+00,  2.7558e+00, -5.4666e-01],\n",
      "        [-4.3169e-01,  1.1042e+00, -3.6679e-01, -1.1367e-04],\n",
      "        [ 5.1434e-01,  2.2982e+00,  5.6157e-01,  1.0633e+00],\n",
      "        [-1.8431e-01, -2.8136e-01,  1.8538e+00,  4.3785e-01]])\n"
     ]
    }
   ],
   "source": [
    "#in place addition\n",
    "r2 = r2.add_(r) #translation: r2 = torch.add(r,r2)\n",
    "print(r2)"
   ]
  },
  {
   "cell_type": "markdown",
   "metadata": {},
   "source": [
    "## Matrix slicing - it's important"
   ]
  },
  {
   "cell_type": "code",
   "execution_count": 25,
   "metadata": {},
   "outputs": [
    {
     "name": "stdout",
     "output_type": "stream",
     "text": [
      "tensor([ 1.3292,  1.1042,  2.2982, -0.2814])\n",
      "tensor([[ 0.4193,  1.3292],\n",
      "        [-0.4317,  1.1042],\n",
      "        [ 0.5143,  2.2982],\n",
      "        [-0.1843, -0.2814]])\n",
      "tensor([[ 4.1929e-01,  1.3292e+00,  2.7558e+00, -5.4666e-01],\n",
      "        [-4.3169e-01,  1.1042e+00, -3.6679e-01, -1.1367e-04],\n",
      "        [ 5.1434e-01,  2.2982e+00,  5.6157e-01,  1.0633e+00]])\n",
      "tensor(1.0633)\n",
      "1.0632529258728027\n",
      "tensor([0.5143, 2.2982, 0.5616, 1.0633])\n"
     ]
    }
   ],
   "source": [
    "print(r2[:,1]) \n",
    "#in r2, items from all the rows which are also in 1-indexed column(2nd column) are sliced (and showed in 1 row).\n",
    "#1st col is 0 indexed.\n",
    "\n",
    "print(r2[:,:2])\n",
    "# items from all the row which are also in 0th,1th column(exclusive of 2th) are sliced\n",
    "\n",
    "print(r2[:3,:]) \n",
    "#all the columns but only first(0-2) 3 rows, exclusive of 4th row(3-indexed row)\n",
    "\n",
    "num_ten = r2[2,3] #selecting that number in 2nd row's 3rd column\n",
    "print(num_ten)\n",
    "\n",
    "print(num_ten.item()) #extract the number out of the tensor\n",
    "\n",
    "print(r2[2,:]) #all column items which are in 3rd(2-indexed) row"
   ]
  },
  {
   "cell_type": "code",
   "execution_count": null,
   "metadata": {},
   "outputs": [],
   "source": []
  }
 ],
 "metadata": {
  "kernelspec": {
   "display_name": "Python 3",
   "language": "python",
   "name": "python3"
  },
  "language_info": {
   "codemirror_mode": {
    "name": "ipython",
    "version": 3
   },
   "file_extension": ".py",
   "mimetype": "text/x-python",
   "name": "python",
   "nbconvert_exporter": "python",
   "pygments_lexer": "ipython3",
   "version": "3.6.8"
  }
 },
 "nbformat": 4,
 "nbformat_minor": 2
}
